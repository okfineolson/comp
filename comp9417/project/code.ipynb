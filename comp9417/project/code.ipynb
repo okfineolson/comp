{
 "metadata": {
  "language_info": {
   "codemirror_mode": {
    "name": "ipython",
    "version": 3
   },
   "file_extension": ".py",
   "mimetype": "text/x-python",
   "name": "python",
   "nbconvert_exporter": "python",
   "pygments_lexer": "ipython3",
   "version": "3.7.3"
  },
  "orig_nbformat": 2,
  "kernelspec": {
   "name": "python373jvsc74a57bd00b1dc67ef4bc96af8f837b0c356862e091aa9eaea21562e5e3de5b8ef0b94afc",
   "display_name": "Python 3.7.3 64-bit"
  },
  "metadata": {
   "interpreter": {
    "hash": "0b1dc67ef4bc96af8f837b0c356862e091aa9eaea21562e5e3de5b8ef0b94afc"
   }
  }
 },
 "nbformat": 4,
 "nbformat_minor": 2,
 "cells": [
  {
   "cell_type": "code",
   "execution_count": 11,
   "metadata": {},
   "outputs": [],
   "source": [
    "import pandas as pd\n",
    "import datetime\n",
    "import numpy as np\n",
    "from sklearn.metrics import accuracy_score\n",
    "from sklearn.model_selection import GridSearchCV\n",
    "from sklearn.naive_bayes import GaussianNB \n",
    "from sklearn.naive_bayes import BernoulliNB \n",
    "from sklearn.naive_bayes import MultinomialNB \n",
    "from sklearn.metrics import confusion_matrix\n",
    "from sklearn.linear_model import LogisticRegression\n",
    "from sklearn.preprocessing import StandardScaler\n",
    "from sklearn.decomposition import PCA\n",
    "def normalize_X(mydata):\n",
    "    min = mydata.min(axis = 0)\n",
    "    max = mydata.max(axis = 0)\n",
    "    mydata = (mydata - min)/(max - min)\n",
    "    return mydata\n",
    "\n",
    "def pca(X_train, X_test):\n",
    "    pca_model = PCA(n_components=128, svd_solver='full')\n",
    "    pca_model.fit(X_train)\n",
    "    x_train, x_test = pca_model.fit_transform(X_train), pca_model.fit_transform(X_test)\n",
    "    # print('AFter PCA: ', x_train.shape)\n",
    "\n",
    "    return x_train, x_test\n",
    "X_test = pd.read_csv('X_test.csv')\n",
    "X_train = pd.read_csv('X_train.csv')\n",
    "X_train = normalize_X(X_train)\n",
    "X_val = pd.read_csv('X_val.csv')\n",
    "X_val = normalize_X(X_val)\n",
    "y_train = pd.read_csv('y_train.csv')\n",
    "y_val = pd.read_csv('y_val.csv')\n",
    "X_train, x_test = pca(X_train, X_test)\n"
   ]
  },
  {
   "cell_type": "code",
   "execution_count": 13,
   "metadata": {},
   "outputs": [
    {
     "output_type": "stream",
     "name": "stdout",
     "text": [
      "0.18374685364976628\n"
     ]
    }
   ],
   "source": [
    "#one vs rest\n",
    "from sklearn.multiclass import OneVsRestClassifier\n",
    "from sklearn.svm import SVC\n",
    "\n",
    "\n",
    "\n",
    "\n",
    "#numset = [i for i in range(40,60)]\n",
    "#{estimator__C：8，estimator__kernel：\"poly\",estimator__degree:4}0.8468176914778857\n",
    "#for i in numset:\n",
    "sc = OneVsRestClassifier(SVC(C = 10,kernel = \"poly\",degree = 4)).fit(X_train, y_train)\n",
    "print(sc.score(X_val,y_val))\n",
    "#print(i)\n",
    "\n"
   ]
  },
  {
   "cell_type": "code",
   "execution_count": 36,
   "metadata": {},
   "outputs": [
    {
     "output_type": "stream",
     "name": "stderr",
     "text": [
      "C:\\Users\\Olson\\AppData\\Local\\Programs\\Python\\Python37\\lib\\site-packages\\sklearn\\utils\\validation.py:63: DataConversionWarning: A column-vector y was passed when a 1d array was expected. Please change the shape of y to (n_samples, ), for example using ravel().\n",
      "  return f(*args, **kwargs)\n",
      "0.619920891765552\n",
      "1\n",
      "C:\\Users\\Olson\\AppData\\Local\\Programs\\Python\\Python37\\lib\\site-packages\\sklearn\\utils\\validation.py:63: DataConversionWarning: A column-vector y was passed when a 1d array was expected. Please change the shape of y to (n_samples, ), for example using ravel().\n",
      "  return f(*args, **kwargs)\n",
      "0.602660913340525\n",
      "2\n",
      "C:\\Users\\Olson\\AppData\\Local\\Programs\\Python\\Python37\\lib\\site-packages\\sklearn\\utils\\validation.py:63: DataConversionWarning: A column-vector y was passed when a 1d array was expected. Please change the shape of y to (n_samples, ), for example using ravel().\n",
      "  return f(*args, **kwargs)\n",
      "0.618482560230133\n",
      "3\n",
      "C:\\Users\\Olson\\AppData\\Local\\Programs\\Python\\Python37\\lib\\site-packages\\sklearn\\utils\\validation.py:63: DataConversionWarning: A column-vector y was passed when a 1d array was expected. Please change the shape of y to (n_samples, ), for example using ravel().\n",
      "  return f(*args, **kwargs)\n",
      "0.6256742179072277\n",
      "4\n",
      "C:\\Users\\Olson\\AppData\\Local\\Programs\\Python\\Python37\\lib\\site-packages\\sklearn\\utils\\validation.py:63: DataConversionWarning: A column-vector y was passed when a 1d array was expected. Please change the shape of y to (n_samples, ), for example using ravel().\n",
      "  return f(*args, **kwargs)\n",
      "0.5911542610571737\n",
      "5\n",
      "C:\\Users\\Olson\\AppData\\Local\\Programs\\Python\\Python37\\lib\\site-packages\\sklearn\\utils\\validation.py:63: DataConversionWarning: A column-vector y was passed when a 1d array was expected. Please change the shape of y to (n_samples, ), for example using ravel().\n",
      "  return f(*args, **kwargs)\n",
      "0.6094929881337648\n",
      "6\n",
      "C:\\Users\\Olson\\AppData\\Local\\Programs\\Python\\Python37\\lib\\site-packages\\sklearn\\utils\\validation.py:63: DataConversionWarning: A column-vector y was passed when a 1d array was expected. Please change the shape of y to (n_samples, ), for example using ravel().\n",
      "  return f(*args, **kwargs)\n",
      "0.6012225818051061\n",
      "7\n",
      "C:\\Users\\Olson\\AppData\\Local\\Programs\\Python\\Python37\\lib\\site-packages\\sklearn\\utils\\validation.py:63: DataConversionWarning: A column-vector y was passed when a 1d array was expected. Please change the shape of y to (n_samples, ), for example using ravel().\n",
      "  return f(*args, **kwargs)\n",
      "0.5864796835670623\n",
      "8\n",
      "C:\\Users\\Olson\\AppData\\Local\\Programs\\Python\\Python37\\lib\\site-packages\\sklearn\\utils\\validation.py:63: DataConversionWarning: A column-vector y was passed when a 1d array was expected. Please change the shape of y to (n_samples, ), for example using ravel().\n",
      "  return f(*args, **kwargs)\n",
      "0.5753326141675656\n",
      "9\n"
     ]
    }
   ],
   "source": [
    "from sklearn.multiclass import OneVsOneClassifier\n",
    "from sklearn.svm import LinearSVC\n",
    "\n",
    "\n",
    "#numset = [i for i in range(1,10)]\n",
    "#for i in numset:\n",
    "sc = OneVsOneClassifier(SVC(C = 11,kernel = \"poly\",degree = 4)).fit(X_train, y_train)\n",
    "print(sc.score(X_val,y_val))\n",
    "#print(i)\n",
    "#0.6256742179072277\n"
   ]
  },
  {
   "cell_type": "code",
   "execution_count": null,
   "metadata": {},
   "outputs": [],
   "source": []
  }
 ]
}